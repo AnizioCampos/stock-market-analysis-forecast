{
 "cells": [
  {
   "cell_type": "code",
   "execution_count": 28,
   "id": "e35e3c49-d09f-45df-b7e0-659c33f13918",
   "metadata": {},
   "outputs": [
    {
     "name": "stdout",
     "output_type": "stream",
     "text": [
      "\n"
     ]
    }
   ],
   "source": [
    "import pandas as pd\n",
    "import numpy as np\n",
    "import requests\n",
    "import json\n",
    "import matplotlib.pyplot as plt\n",
    "\n",
    "# Replace 'file.json' with the path to your JSON file\n",
    "with open('token.json', 'r') as file:\n",
    "    data = json.load(file)\n",
    "# Assuming your JSON structure is like { \"token\": \"your_token_value\" }\n",
    "token = data['token']\n",
    "\n"
   ]
  },
  {
   "cell_type": "code",
   "execution_count": 24,
   "id": "7397bd0c-0c36-4e95-baf2-2405d361b382",
   "metadata": {},
   "outputs": [],
   "source": [
    "# function to fetch stock data from alphavantage api\n",
    "def fetch_stock_data(company_name):\n",
    "    url_ibm = f\"https://www.alphavantage.co/query?function=TIME_SERIES_INTRADAY&symbol={company_name}&interval=60min&outputsize=full&outputsize=full&apikey={token}\"\n",
    "    payload = {}\n",
    "    headers = {}\n",
    "    response = requests.request(\"GET\", url_ibm, headers=headers, data=payload)\n",
    "    response_dict = json.loads(response.text)\n",
    "    return response_dict\n",
    "\n",
    "\n",
    "json_data_intel = fetch_stock_data(\"INTC\")\n",
    "json_data_nvidia = fetch_stock_data(\"NVIDIA\")\n",
    "json_data_ibm = fetch_stock_data(\"IBM\")\n",
    "json_data_apple = fetch_stock_data(\"AAPL\")\n",
    "json_data_google = fetch_stock_data(\"GOOG\")\n",
    "\n",
    "def json_to_pandas():\n",
    "    return 0"
   ]
  },
  {
   "cell_type": "code",
   "execution_count": null,
   "id": "1e52ad5f-00b2-41a5-89e6-2ad54fd0eafa",
   "metadata": {},
   "outputs": [],
   "source": [
    "# MONTHLY RETAIL SALES USA\n",
    "\n",
    "url = f\"https://www.alphavantage.co/query?function=RETAIL_SALES&apikey={token}\"\n",
    "\n",
    "payload = {}\n",
    "headers = {}\n",
    "\n",
    "response = requests.request(\"GET\", url, headers=headers, data=payload)\n",
    "\n",
    "print(response.text)\n"
   ]
  },
  {
   "cell_type": "code",
   "execution_count": null,
   "id": "023f4d3b-e7b2-4030-8f63-01d79042f91e",
   "metadata": {},
   "outputs": [],
   "source": []
  }
 ],
 "metadata": {
  "kernelspec": {
   "display_name": "Python 3 (ipykernel)",
   "language": "python",
   "name": "python3"
  },
  "language_info": {
   "codemirror_mode": {
    "name": "ipython",
    "version": 3
   },
   "file_extension": ".py",
   "mimetype": "text/x-python",
   "name": "python",
   "nbconvert_exporter": "python",
   "pygments_lexer": "ipython3",
   "version": "3.9.13"
  }
 },
 "nbformat": 4,
 "nbformat_minor": 5
}
